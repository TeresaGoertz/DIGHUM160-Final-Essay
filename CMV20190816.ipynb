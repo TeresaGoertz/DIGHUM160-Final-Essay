{
 "cells": [
  {
   "cell_type": "markdown",
   "metadata": {},
   "source": [
    "University of California, Berkeley\n",
    "\n",
    "DigHum 160 – Critical Digital Humanities \n",
    "\n",
    "Digital Hermeneutics: Close, Distant, Machine Reading\n",
    "\n",
    "Instructor: Dr. Tom Van Nuenen"
   ]
  },
  {
   "cell_type": "markdown",
   "metadata": {},
   "source": [
    "## **\"Experience over Expertise? Truth-Finding/-Making in r/changemyview\"**\n",
    "By Teresa Görtz"
   ]
  },
  {
   "cell_type": "markdown",
   "metadata": {},
   "source": [
    "### Supplementary Jupyter Notebook\n",
    "Created by Teresa Görtz\n",
    "\n",
    "August 16, 2019"
   ]
  },
  {
   "cell_type": "code",
   "execution_count": 43,
   "metadata": {},
   "outputs": [],
   "source": [
    "import os\n",
    "import pandas as pd\n",
    "import nltk\n",
    "from nltk.corpus import stopwords\n",
    "from string import punctuation\n",
    "punctuation\n",
    "import matplotlib.pyplot as plt\n",
    "%matplotlib inline\n",
    "\n",
    "import sklearn\n",
    "from sklearn.feature_extraction.text import TfidfVectorizer, CountVectorizer\n",
    "from sklearn.decomposition import PCA"
   ]
  },
  {
   "cell_type": "code",
   "execution_count": 7,
   "metadata": {},
   "outputs": [
    {
     "data": {
      "text/plain": [
       "'C:\\\\Users\\\\sprin\\\\Desktop\\\\DIGHUM160'"
      ]
     },
     "execution_count": 7,
     "metadata": {},
     "output_type": "execute_result"
    }
   ],
   "source": [
    "pwd"
   ]
  },
  {
   "cell_type": "code",
   "execution_count": 8,
   "metadata": {},
   "outputs": [],
   "source": [
    "os.chdir('C:\\\\Users\\\\sprin\\\\Desktop\\\\DIGHUM160\\\\redditCMV')"
   ]
  },
  {
   "cell_type": "code",
   "execution_count": 9,
   "metadata": {},
   "outputs": [],
   "source": [
    "submissionsDF = pd.read_csv(\"submissions.csv\", lineterminator='\\n')"
   ]
  },
  {
   "cell_type": "code",
   "execution_count": 10,
   "metadata": {},
   "outputs": [
    {
     "data": {
      "text/html": [
       "<div>\n",
       "<style scoped>\n",
       "    .dataframe tbody tr th:only-of-type {\n",
       "        vertical-align: middle;\n",
       "    }\n",
       "\n",
       "    .dataframe tbody tr th {\n",
       "        vertical-align: top;\n",
       "    }\n",
       "\n",
       "    .dataframe thead th {\n",
       "        text-align: right;\n",
       "    }\n",
       "</style>\n",
       "<table border=\"1\" class=\"dataframe\">\n",
       "  <thead>\n",
       "    <tr style=\"text-align: right;\">\n",
       "      <th></th>\n",
       "      <th>idint</th>\n",
       "      <th>idstr</th>\n",
       "      <th>created</th>\n",
       "      <th>self</th>\n",
       "      <th>nsfw</th>\n",
       "      <th>author</th>\n",
       "      <th>title</th>\n",
       "      <th>url</th>\n",
       "      <th>selftext</th>\n",
       "      <th>score</th>\n",
       "      <th>subreddit</th>\n",
       "      <th>distinguish</th>\n",
       "      <th>textlen</th>\n",
       "      <th>num_comments</th>\n",
       "      <th>flair_text</th>\n",
       "      <th>flair_css_class</th>\n",
       "      <th>augmented_at</th>\n",
       "      <th>augmented_count</th>\n",
       "    </tr>\n",
       "  </thead>\n",
       "  <tbody>\n",
       "    <tr>\n",
       "      <th>0</th>\n",
       "      <td>71816829</td>\n",
       "      <td>t3_16ra7x</td>\n",
       "      <td>1358439851</td>\n",
       "      <td>1</td>\n",
       "      <td>0</td>\n",
       "      <td>RealHonestJohn</td>\n",
       "      <td>CMV I think humanity is selfish, stupid, and s...</td>\n",
       "      <td>NaN</td>\n",
       "      <td>proof: overpopulation, religion, wasting resou...</td>\n",
       "      <td>10</td>\n",
       "      <td>changemyview</td>\n",
       "      <td>NaN</td>\n",
       "      <td>134</td>\n",
       "      <td>13</td>\n",
       "      <td>NaN</td>\n",
       "      <td>NaN</td>\n",
       "      <td>NaN</td>\n",
       "      <td>NaN</td>\n",
       "    </tr>\n",
       "    <tr>\n",
       "      <th>1</th>\n",
       "      <td>71817317</td>\n",
       "      <td>t3_16ralh</td>\n",
       "      <td>1358440202</td>\n",
       "      <td>1</td>\n",
       "      <td>0</td>\n",
       "      <td>ancillarynipple</td>\n",
       "      <td>I think single people should get the most tax ...</td>\n",
       "      <td>NaN</td>\n",
       "      <td>Why should I pay higher taxes when I use less ...</td>\n",
       "      <td>15</td>\n",
       "      <td>changemyview</td>\n",
       "      <td>NaN</td>\n",
       "      <td>127</td>\n",
       "      <td>5</td>\n",
       "      <td>NaN</td>\n",
       "      <td>NaN</td>\n",
       "      <td>NaN</td>\n",
       "      <td>NaN</td>\n",
       "    </tr>\n",
       "    <tr>\n",
       "      <th>2</th>\n",
       "      <td>71842684</td>\n",
       "      <td>t3_16ru64</td>\n",
       "      <td>1358456133</td>\n",
       "      <td>1</td>\n",
       "      <td>0</td>\n",
       "      <td>[deleted]</td>\n",
       "      <td>I believe monogamy is false, please CMV!</td>\n",
       "      <td>NaN</td>\n",
       "      <td>This is a reluctant belief of mine, so this su...</td>\n",
       "      <td>1</td>\n",
       "      <td>changemyview</td>\n",
       "      <td>NaN</td>\n",
       "      <td>412</td>\n",
       "      <td>0</td>\n",
       "      <td>NaN</td>\n",
       "      <td>NaN</td>\n",
       "      <td>NaN</td>\n",
       "      <td>NaN</td>\n",
       "    </tr>\n",
       "    <tr>\n",
       "      <th>3</th>\n",
       "      <td>71844272</td>\n",
       "      <td>t3_16rve8</td>\n",
       "      <td>1358457067</td>\n",
       "      <td>1</td>\n",
       "      <td>0</td>\n",
       "      <td>GrizzlyGremlin</td>\n",
       "      <td>I believe monogamy is false, please CMV!</td>\n",
       "      <td>NaN</td>\n",
       "      <td>This is a reluctant belief of mine, so this su...</td>\n",
       "      <td>23</td>\n",
       "      <td>changemyview</td>\n",
       "      <td>NaN</td>\n",
       "      <td>409</td>\n",
       "      <td>20</td>\n",
       "      <td>NaN</td>\n",
       "      <td>NaN</td>\n",
       "      <td>NaN</td>\n",
       "      <td>NaN</td>\n",
       "    </tr>\n",
       "    <tr>\n",
       "      <th>4</th>\n",
       "      <td>71850133</td>\n",
       "      <td>t3_16rzx1</td>\n",
       "      <td>1358460478</td>\n",
       "      <td>1</td>\n",
       "      <td>0</td>\n",
       "      <td>cardswsbound</td>\n",
       "      <td>I think the love of my life and I are doomed t...</td>\n",
       "      <td>NaN</td>\n",
       "      <td>I am atheist and she is Christian (not sure on...</td>\n",
       "      <td>11</td>\n",
       "      <td>changemyview</td>\n",
       "      <td>NaN</td>\n",
       "      <td>173</td>\n",
       "      <td>9</td>\n",
       "      <td>NaN</td>\n",
       "      <td>NaN</td>\n",
       "      <td>NaN</td>\n",
       "      <td>NaN</td>\n",
       "    </tr>\n",
       "  </tbody>\n",
       "</table>\n",
       "</div>"
      ],
      "text/plain": [
       "      idint      idstr     created  self  nsfw           author  \\\n",
       "0  71816829  t3_16ra7x  1358439851     1     0   RealHonestJohn   \n",
       "1  71817317  t3_16ralh  1358440202     1     0  ancillarynipple   \n",
       "2  71842684  t3_16ru64  1358456133     1     0        [deleted]   \n",
       "3  71844272  t3_16rve8  1358457067     1     0   GrizzlyGremlin   \n",
       "4  71850133  t3_16rzx1  1358460478     1     0     cardswsbound   \n",
       "\n",
       "                                               title  url  \\\n",
       "0  CMV I think humanity is selfish, stupid, and s...  NaN   \n",
       "1  I think single people should get the most tax ...  NaN   \n",
       "2           I believe monogamy is false, please CMV!  NaN   \n",
       "3           I believe monogamy is false, please CMV!  NaN   \n",
       "4  I think the love of my life and I are doomed t...  NaN   \n",
       "\n",
       "                                            selftext  score     subreddit  \\\n",
       "0  proof: overpopulation, religion, wasting resou...     10  changemyview   \n",
       "1  Why should I pay higher taxes when I use less ...     15  changemyview   \n",
       "2  This is a reluctant belief of mine, so this su...      1  changemyview   \n",
       "3  This is a reluctant belief of mine, so this su...     23  changemyview   \n",
       "4  I am atheist and she is Christian (not sure on...     11  changemyview   \n",
       "\n",
       "  distinguish  textlen  num_comments flair_text flair_css_class  augmented_at  \\\n",
       "0         NaN      134            13        NaN             NaN           NaN   \n",
       "1         NaN      127             5        NaN             NaN           NaN   \n",
       "2         NaN      412             0        NaN             NaN           NaN   \n",
       "3         NaN      409            20        NaN             NaN           NaN   \n",
       "4         NaN      173             9        NaN             NaN           NaN   \n",
       "\n",
       "   augmented_count  \n",
       "0              NaN  \n",
       "1              NaN  \n",
       "2              NaN  \n",
       "3              NaN  \n",
       "4              NaN  "
      ]
     },
     "execution_count": 10,
     "metadata": {},
     "output_type": "execute_result"
    }
   ],
   "source": [
    "submissionsDF.head(5)"
   ]
  },
  {
   "cell_type": "code",
   "execution_count": 11,
   "metadata": {},
   "outputs": [
    {
     "data": {
      "text/plain": [
       "140377"
      ]
     },
     "execution_count": 11,
     "metadata": {},
     "output_type": "execute_result"
    }
   ],
   "source": [
    "len(submissionsDF)"
   ]
  },
  {
   "cell_type": "markdown",
   "metadata": {},
   "source": [
    "Note: data in `submissionsDF` is from Tom's complete web scrape"
   ]
  },
  {
   "cell_type": "markdown",
   "metadata": {},
   "source": [
    "### subsetting submissions to extract only submissions where OP acknowledged change of view by using flair `Delta(s) from OP`"
   ]
  },
  {
   "cell_type": "code",
   "execution_count": 12,
   "metadata": {},
   "outputs": [],
   "source": [
    "DeltasFromOPdf = submissionsDF[submissionsDF['flair_text']==\"Deltas(s) from OP\"]"
   ]
  },
  {
   "cell_type": "markdown",
   "metadata": {},
   "source": [
    "percentage of submissions with `Delta(s) from OP` compared to total number of submissions"
   ]
  },
  {
   "cell_type": "code",
   "execution_count": 13,
   "metadata": {},
   "outputs": [
    {
     "data": {
      "text/plain": [
       "4.837687085491213"
      ]
     },
     "execution_count": 13,
     "metadata": {},
     "output_type": "execute_result"
    }
   ],
   "source": [
    "100/len(submissionsDF)*len(DeltasFromOPdf)"
   ]
  },
  {
   "cell_type": "markdown",
   "metadata": {},
   "source": [
    "description statistics for subset `Delta(s) from OP` and all submissions:"
   ]
  },
  {
   "cell_type": "code",
   "execution_count": 14,
   "metadata": {},
   "outputs": [
    {
     "data": {
      "text/html": [
       "<div>\n",
       "<style scoped>\n",
       "    .dataframe tbody tr th:only-of-type {\n",
       "        vertical-align: middle;\n",
       "    }\n",
       "\n",
       "    .dataframe tbody tr th {\n",
       "        vertical-align: top;\n",
       "    }\n",
       "\n",
       "    .dataframe thead th {\n",
       "        text-align: right;\n",
       "    }\n",
       "</style>\n",
       "<table border=\"1\" class=\"dataframe\">\n",
       "  <thead>\n",
       "    <tr style=\"text-align: right;\">\n",
       "      <th></th>\n",
       "      <th>idint</th>\n",
       "      <th>created</th>\n",
       "      <th>self</th>\n",
       "      <th>nsfw</th>\n",
       "      <th>score</th>\n",
       "      <th>textlen</th>\n",
       "      <th>num_comments</th>\n",
       "      <th>augmented_at</th>\n",
       "      <th>augmented_count</th>\n",
       "    </tr>\n",
       "  </thead>\n",
       "  <tbody>\n",
       "    <tr>\n",
       "      <th>count</th>\n",
       "      <td>6.791000e+03</td>\n",
       "      <td>6.791000e+03</td>\n",
       "      <td>6791.0</td>\n",
       "      <td>6791.000000</td>\n",
       "      <td>6791.000000</td>\n",
       "      <td>6791.000000</td>\n",
       "      <td>6791.000000</td>\n",
       "      <td>0.0</td>\n",
       "      <td>0.0</td>\n",
       "    </tr>\n",
       "    <tr>\n",
       "      <th>mean</th>\n",
       "      <td>6.047794e+08</td>\n",
       "      <td>1.542020e+09</td>\n",
       "      <td>1.0</td>\n",
       "      <td>0.004712</td>\n",
       "      <td>151.953026</td>\n",
       "      <td>1815.751436</td>\n",
       "      <td>85.108820</td>\n",
       "      <td>NaN</td>\n",
       "      <td>NaN</td>\n",
       "    </tr>\n",
       "    <tr>\n",
       "      <th>std</th>\n",
       "      <td>6.792788e+07</td>\n",
       "      <td>1.112195e+07</td>\n",
       "      <td>0.0</td>\n",
       "      <td>0.068488</td>\n",
       "      <td>714.929908</td>\n",
       "      <td>1518.183071</td>\n",
       "      <td>137.842466</td>\n",
       "      <td>NaN</td>\n",
       "      <td>NaN</td>\n",
       "    </tr>\n",
       "    <tr>\n",
       "      <th>min</th>\n",
       "      <td>4.968911e+08</td>\n",
       "      <td>1.522260e+09</td>\n",
       "      <td>1.0</td>\n",
       "      <td>0.000000</td>\n",
       "      <td>0.000000</td>\n",
       "      <td>9.000000</td>\n",
       "      <td>3.000000</td>\n",
       "      <td>NaN</td>\n",
       "      <td>NaN</td>\n",
       "    </tr>\n",
       "    <tr>\n",
       "      <th>25%</th>\n",
       "      <td>5.464126e+08</td>\n",
       "      <td>1.532384e+09</td>\n",
       "      <td>1.0</td>\n",
       "      <td>0.000000</td>\n",
       "      <td>0.000000</td>\n",
       "      <td>900.000000</td>\n",
       "      <td>28.500000</td>\n",
       "      <td>NaN</td>\n",
       "      <td>NaN</td>\n",
       "    </tr>\n",
       "    <tr>\n",
       "      <th>50%</th>\n",
       "      <td>5.958631e+08</td>\n",
       "      <td>1.541532e+09</td>\n",
       "      <td>1.0</td>\n",
       "      <td>0.000000</td>\n",
       "      <td>7.000000</td>\n",
       "      <td>1446.000000</td>\n",
       "      <td>48.000000</td>\n",
       "      <td>NaN</td>\n",
       "      <td>NaN</td>\n",
       "    </tr>\n",
       "    <tr>\n",
       "      <th>75%</th>\n",
       "      <td>6.536776e+08</td>\n",
       "      <td>1.550774e+09</td>\n",
       "      <td>1.0</td>\n",
       "      <td>0.000000</td>\n",
       "      <td>25.000000</td>\n",
       "      <td>2291.000000</td>\n",
       "      <td>86.000000</td>\n",
       "      <td>NaN</td>\n",
       "      <td>NaN</td>\n",
       "    </tr>\n",
       "    <tr>\n",
       "      <th>max</th>\n",
       "      <td>7.527110e+08</td>\n",
       "      <td>1.563749e+09</td>\n",
       "      <td>1.0</td>\n",
       "      <td>1.000000</td>\n",
       "      <td>21942.000000</td>\n",
       "      <td>21088.000000</td>\n",
       "      <td>2494.000000</td>\n",
       "      <td>NaN</td>\n",
       "      <td>NaN</td>\n",
       "    </tr>\n",
       "  </tbody>\n",
       "</table>\n",
       "</div>"
      ],
      "text/plain": [
       "              idint       created    self         nsfw         score  \\\n",
       "count  6.791000e+03  6.791000e+03  6791.0  6791.000000   6791.000000   \n",
       "mean   6.047794e+08  1.542020e+09     1.0     0.004712    151.953026   \n",
       "std    6.792788e+07  1.112195e+07     0.0     0.068488    714.929908   \n",
       "min    4.968911e+08  1.522260e+09     1.0     0.000000      0.000000   \n",
       "25%    5.464126e+08  1.532384e+09     1.0     0.000000      0.000000   \n",
       "50%    5.958631e+08  1.541532e+09     1.0     0.000000      7.000000   \n",
       "75%    6.536776e+08  1.550774e+09     1.0     0.000000     25.000000   \n",
       "max    7.527110e+08  1.563749e+09     1.0     1.000000  21942.000000   \n",
       "\n",
       "            textlen  num_comments  augmented_at  augmented_count  \n",
       "count   6791.000000   6791.000000           0.0              0.0  \n",
       "mean    1815.751436     85.108820           NaN              NaN  \n",
       "std     1518.183071    137.842466           NaN              NaN  \n",
       "min        9.000000      3.000000           NaN              NaN  \n",
       "25%      900.000000     28.500000           NaN              NaN  \n",
       "50%     1446.000000     48.000000           NaN              NaN  \n",
       "75%     2291.000000     86.000000           NaN              NaN  \n",
       "max    21088.000000   2494.000000           NaN              NaN  "
      ]
     },
     "execution_count": 14,
     "metadata": {},
     "output_type": "execute_result"
    }
   ],
   "source": [
    "DeltasFromOPdf.describe()"
   ]
  },
  {
   "cell_type": "code",
   "execution_count": 15,
   "metadata": {},
   "outputs": [
    {
     "data": {
      "text/html": [
       "<div>\n",
       "<style scoped>\n",
       "    .dataframe tbody tr th:only-of-type {\n",
       "        vertical-align: middle;\n",
       "    }\n",
       "\n",
       "    .dataframe tbody tr th {\n",
       "        vertical-align: top;\n",
       "    }\n",
       "\n",
       "    .dataframe thead th {\n",
       "        text-align: right;\n",
       "    }\n",
       "</style>\n",
       "<table border=\"1\" class=\"dataframe\">\n",
       "  <thead>\n",
       "    <tr style=\"text-align: right;\">\n",
       "      <th></th>\n",
       "      <th>idint</th>\n",
       "      <th>created</th>\n",
       "      <th>self</th>\n",
       "      <th>nsfw</th>\n",
       "      <th>score</th>\n",
       "      <th>textlen</th>\n",
       "      <th>num_comments</th>\n",
       "      <th>augmented_at</th>\n",
       "      <th>augmented_count</th>\n",
       "    </tr>\n",
       "  </thead>\n",
       "  <tbody>\n",
       "    <tr>\n",
       "      <th>count</th>\n",
       "      <td>1.403770e+05</td>\n",
       "      <td>1.403770e+05</td>\n",
       "      <td>140377.000000</td>\n",
       "      <td>140377.000000</td>\n",
       "      <td>140377.000000</td>\n",
       "      <td>140377.000000</td>\n",
       "      <td>140377.000000</td>\n",
       "      <td>0.0</td>\n",
       "      <td>0.0</td>\n",
       "    </tr>\n",
       "    <tr>\n",
       "      <th>mean</th>\n",
       "      <td>3.559710e+08</td>\n",
       "      <td>1.473581e+09</td>\n",
       "      <td>0.997877</td>\n",
       "      <td>0.003391</td>\n",
       "      <td>37.633530</td>\n",
       "      <td>996.291287</td>\n",
       "      <td>37.839240</td>\n",
       "      <td>NaN</td>\n",
       "      <td>NaN</td>\n",
       "    </tr>\n",
       "    <tr>\n",
       "      <th>std</th>\n",
       "      <td>2.016997e+08</td>\n",
       "      <td>6.123071e+07</td>\n",
       "      <td>0.046026</td>\n",
       "      <td>0.058133</td>\n",
       "      <td>247.930225</td>\n",
       "      <td>1490.048442</td>\n",
       "      <td>87.369131</td>\n",
       "      <td>NaN</td>\n",
       "      <td>NaN</td>\n",
       "    </tr>\n",
       "    <tr>\n",
       "      <th>min</th>\n",
       "      <td>7.181683e+07</td>\n",
       "      <td>1.358440e+09</td>\n",
       "      <td>0.000000</td>\n",
       "      <td>0.000000</td>\n",
       "      <td>0.000000</td>\n",
       "      <td>0.000000</td>\n",
       "      <td>0.000000</td>\n",
       "      <td>NaN</td>\n",
       "      <td>NaN</td>\n",
       "    </tr>\n",
       "    <tr>\n",
       "      <th>25%</th>\n",
       "      <td>1.591703e+08</td>\n",
       "      <td>1.416400e+09</td>\n",
       "      <td>1.000000</td>\n",
       "      <td>0.000000</td>\n",
       "      <td>1.000000</td>\n",
       "      <td>9.000000</td>\n",
       "      <td>0.000000</td>\n",
       "      <td>NaN</td>\n",
       "      <td>NaN</td>\n",
       "    </tr>\n",
       "    <tr>\n",
       "      <th>50%</th>\n",
       "      <td>3.399863e+08</td>\n",
       "      <td>1.483726e+09</td>\n",
       "      <td>1.000000</td>\n",
       "      <td>0.000000</td>\n",
       "      <td>1.000000</td>\n",
       "      <td>443.000000</td>\n",
       "      <td>12.000000</td>\n",
       "      <td>NaN</td>\n",
       "      <td>NaN</td>\n",
       "    </tr>\n",
       "    <tr>\n",
       "      <th>75%</th>\n",
       "      <td>5.294158e+08</td>\n",
       "      <td>1.529026e+09</td>\n",
       "      <td>1.000000</td>\n",
       "      <td>0.000000</td>\n",
       "      <td>9.000000</td>\n",
       "      <td>1584.000000</td>\n",
       "      <td>42.000000</td>\n",
       "      <td>NaN</td>\n",
       "      <td>NaN</td>\n",
       "    </tr>\n",
       "    <tr>\n",
       "      <th>max</th>\n",
       "      <td>7.527644e+08</td>\n",
       "      <td>1.563756e+09</td>\n",
       "      <td>1.000000</td>\n",
       "      <td>1.000000</td>\n",
       "      <td>21942.000000</td>\n",
       "      <td>39788.000000</td>\n",
       "      <td>3348.000000</td>\n",
       "      <td>NaN</td>\n",
       "      <td>NaN</td>\n",
       "    </tr>\n",
       "  </tbody>\n",
       "</table>\n",
       "</div>"
      ],
      "text/plain": [
       "              idint       created           self           nsfw  \\\n",
       "count  1.403770e+05  1.403770e+05  140377.000000  140377.000000   \n",
       "mean   3.559710e+08  1.473581e+09       0.997877       0.003391   \n",
       "std    2.016997e+08  6.123071e+07       0.046026       0.058133   \n",
       "min    7.181683e+07  1.358440e+09       0.000000       0.000000   \n",
       "25%    1.591703e+08  1.416400e+09       1.000000       0.000000   \n",
       "50%    3.399863e+08  1.483726e+09       1.000000       0.000000   \n",
       "75%    5.294158e+08  1.529026e+09       1.000000       0.000000   \n",
       "max    7.527644e+08  1.563756e+09       1.000000       1.000000   \n",
       "\n",
       "               score        textlen   num_comments  augmented_at  \\\n",
       "count  140377.000000  140377.000000  140377.000000           0.0   \n",
       "mean       37.633530     996.291287      37.839240           NaN   \n",
       "std       247.930225    1490.048442      87.369131           NaN   \n",
       "min         0.000000       0.000000       0.000000           NaN   \n",
       "25%         1.000000       9.000000       0.000000           NaN   \n",
       "50%         1.000000     443.000000      12.000000           NaN   \n",
       "75%         9.000000    1584.000000      42.000000           NaN   \n",
       "max     21942.000000   39788.000000    3348.000000           NaN   \n",
       "\n",
       "       augmented_count  \n",
       "count              0.0  \n",
       "mean               NaN  \n",
       "std                NaN  \n",
       "min                NaN  \n",
       "25%                NaN  \n",
       "50%                NaN  \n",
       "75%                NaN  \n",
       "max                NaN  "
      ]
     },
     "execution_count": 15,
     "metadata": {},
     "output_type": "execute_result"
    }
   ],
   "source": [
    "submissionsDF.describe()"
   ]
  },
  {
   "cell_type": "markdown",
   "metadata": {},
   "source": [
    "comparing `num_comments` statistics submissions in `DeltasFromOPdf` have generated a higher number of comments"
   ]
  },
  {
   "cell_type": "markdown",
   "metadata": {},
   "source": [
    "### What are the most common topics in `DeltasfromOPdf` vs `submissionsDF` based on tf-idf?"
   ]
  },
  {
   "cell_type": "code",
   "execution_count": 16,
   "metadata": {},
   "outputs": [],
   "source": [
    "DeltaTitles = DeltasFromOPdf['title'].tolist()"
   ]
  },
  {
   "cell_type": "code",
   "execution_count": 17,
   "metadata": {},
   "outputs": [],
   "source": [
    "DeltaTitles = \" \".join(DeltaTitles)"
   ]
  },
  {
   "cell_type": "code",
   "execution_count": 18,
   "metadata": {},
   "outputs": [
    {
     "data": {
      "text/plain": [
       "str"
      ]
     },
     "execution_count": 18,
     "metadata": {},
     "output_type": "execute_result"
    }
   ],
   "source": [
    "type(DeltaTitles)"
   ]
  },
  {
   "cell_type": "code",
   "execution_count": 19,
   "metadata": {},
   "outputs": [],
   "source": [
    "submissionTitles = submissionsDF['title'].tolist()\n",
    "submissionTitles = \" \".join(submissionTitles)"
   ]
  },
  {
   "cell_type": "code",
   "execution_count": 20,
   "metadata": {},
   "outputs": [],
   "source": [
    "corpus = [DeltaTitles, submissionTitles]"
   ]
  },
  {
   "cell_type": "code",
   "execution_count": 21,
   "metadata": {},
   "outputs": [],
   "source": [
    "stop = stopwords.words(\"english\")"
   ]
  },
  {
   "cell_type": "code",
   "execution_count": 22,
   "metadata": {},
   "outputs": [
    {
     "data": {
      "text/plain": [
       "list"
      ]
     },
     "execution_count": 22,
     "metadata": {},
     "output_type": "execute_result"
    }
   ],
   "source": [
    "type(stop)"
   ]
  },
  {
   "cell_type": "code",
   "execution_count": 23,
   "metadata": {},
   "outputs": [],
   "source": [
    "additionalStops = [\"'d\", \"'ll\", \"'re\", \"'s\", \"'ve\", 'could', 'might', 'must', \"n't\", 'need', 'sha', 'wo', 'would', 'cmv', \"''\", \"``\", \"’\", \"”\", \"“\"]"
   ]
  },
  {
   "cell_type": "code",
   "execution_count": 26,
   "metadata": {},
   "outputs": [],
   "source": [
    "punctuationList = [char for char in punctuation]"
   ]
  },
  {
   "cell_type": "code",
   "execution_count": 27,
   "metadata": {},
   "outputs": [],
   "source": [
    "for char in punctuationList:\n",
    "    additionalStops.append(char)"
   ]
  },
  {
   "cell_type": "code",
   "execution_count": 28,
   "metadata": {},
   "outputs": [],
   "source": [
    "for each in additionalStops:\n",
    "    stop.append(each)"
   ]
  },
  {
   "cell_type": "markdown",
   "metadata": {},
   "source": [
    "creating tfidf matrices for uni-, bi-,trigrams"
   ]
  },
  {
   "cell_type": "code",
   "execution_count": 29,
   "metadata": {},
   "outputs": [],
   "source": [
    "tfidf = TfidfVectorizer(tokenizer=nltk.word_tokenize, stop_words=stop, max_features = 1000)"
   ]
  },
  {
   "cell_type": "code",
   "execution_count": 30,
   "metadata": {},
   "outputs": [],
   "source": [
    "tfidf2 = TfidfVectorizer(tokenizer=nltk.word_tokenize, stop_words=stop, ngram_range=(2,3), max_features = 1000)"
   ]
  },
  {
   "cell_type": "code",
   "execution_count": 31,
   "metadata": {},
   "outputs": [],
   "source": [
    "tfidf3 = TfidfVectorizer(tokenizer=nltk.word_tokenize, stop_words=stop, ngram_range=(3,4), max_features = 1000)"
   ]
  },
  {
   "cell_type": "code",
   "execution_count": 32,
   "metadata": {},
   "outputs": [],
   "source": [
    "tfMatrix = tfidf.fit_transform(corpus)"
   ]
  },
  {
   "cell_type": "code",
   "execution_count": 33,
   "metadata": {},
   "outputs": [
    {
     "data": {
      "text/plain": [
       "<2x1000 sparse matrix of type '<class 'numpy.float64'>'\n",
       "\twith 1987 stored elements in Compressed Sparse Row format>"
      ]
     },
     "execution_count": 33,
     "metadata": {},
     "output_type": "execute_result"
    }
   ],
   "source": [
    "tfMatrix"
   ]
  },
  {
   "cell_type": "code",
   "execution_count": 34,
   "metadata": {},
   "outputs": [],
   "source": [
    "tfMatrix2 = tfidf2.fit_transform(corpus)"
   ]
  },
  {
   "cell_type": "code",
   "execution_count": 35,
   "metadata": {},
   "outputs": [
    {
     "data": {
      "text/plain": [
       "<2x1000 sparse matrix of type '<class 'numpy.float64'>'\n",
       "\twith 1793 stored elements in Compressed Sparse Row format>"
      ]
     },
     "execution_count": 35,
     "metadata": {},
     "output_type": "execute_result"
    }
   ],
   "source": [
    "tfMatrix2"
   ]
  },
  {
   "cell_type": "code",
   "execution_count": 36,
   "metadata": {},
   "outputs": [],
   "source": [
    "tfMatrix3 = tfidf3.fit_transform(corpus)"
   ]
  },
  {
   "cell_type": "code",
   "execution_count": 37,
   "metadata": {},
   "outputs": [
    {
     "data": {
      "text/plain": [
       "<2x1000 sparse matrix of type '<class 'numpy.float64'>'\n",
       "\twith 1373 stored elements in Compressed Sparse Row format>"
      ]
     },
     "execution_count": 37,
     "metadata": {},
     "output_type": "execute_result"
    }
   ],
   "source": [
    "tfMatrix3"
   ]
  },
  {
   "cell_type": "markdown",
   "metadata": {},
   "source": [
    "plotting 30 most frequent uni-, bi-, trigrams:"
   ]
  },
  {
   "cell_type": "code",
   "execution_count": 38,
   "metadata": {},
   "outputs": [],
   "source": [
    "dtm = pd.DataFrame(tfMatrix.toarray(), columns=tfidf.get_feature_names())"
   ]
  },
  {
   "cell_type": "code",
   "execution_count": 39,
   "metadata": {},
   "outputs": [],
   "source": [
    "dtm = dtm.T.sort_values(0, ascending = False).head(100)"
   ]
  },
  {
   "cell_type": "code",
   "execution_count": 40,
   "metadata": {},
   "outputs": [],
   "source": [
    "dtm.columns = ['DeltaTitles', 'SubmissionTitles']"
   ]
  },
  {
   "cell_type": "code",
   "execution_count": 44,
   "metadata": {},
   "outputs": [
    {
     "data": {
      "image/png": "[encoded data removed]",
      "text/plain": [
       "<Figure size 576x288 with 1 Axes>"
      ]
     },
     "metadata": {
      "needs_background": "light"
     },
     "output_type": "display_data"
    }
   ],
   "source": [
    "dtm.head(30).plot(kind='bar', figsize = (8,4))\n",
    "plt.savefig('dtmplot', bbox_inches = \"tight\")"
   ]
  },
  {
   "cell_type": "code",
   "execution_count": 45,
   "metadata": {},
   "outputs": [],
   "source": [
    "dtm2 = pd.DataFrame(tfMatrix2.toarray(), columns=tfidf2.get_feature_names())"
   ]
  },
  {
   "cell_type": "code",
   "execution_count": 46,
   "metadata": {},
   "outputs": [],
   "source": [
    "dtm2 = dtm2.T.sort_values(0, ascending = False).head(100)"
   ]
  },
  {
   "cell_type": "code",
   "execution_count": 47,
   "metadata": {},
   "outputs": [],
   "source": [
    "dtm2.columns = ['DeltaTitles', 'SubmissionTitles']"
   ]
  },
  {
   "cell_type": "code",
   "execution_count": 48,
   "metadata": {},
   "outputs": [
    {
     "data": {
      "image/png": "[encoded data removed]",
      "text/plain": [
       "<Figure size 576x288 with 1 Axes>"
      ]
     },
     "metadata": {
      "needs_background": "light"
     },
     "output_type": "display_data"
    }
   ],
   "source": [
    "dtm2.head(30).plot(kind='bar', figsize = (8,4))\n",
    "plt.savefig('dtm2plot', bbox_inches = \"tight\")"
   ]
  },
  {
   "cell_type": "code",
   "execution_count": 49,
   "metadata": {},
   "outputs": [],
   "source": [
    "dtm3 = pd.DataFrame(tfMatrix3.toarray(), columns=tfidf3.get_feature_names())"
   ]
  },
  {
   "cell_type": "code",
   "execution_count": 50,
   "metadata": {},
   "outputs": [],
   "source": [
    "dtm3 = dtm3.T.sort_values(0, ascending = False).head(100)"
   ]
  },
  {
   "cell_type": "code",
   "execution_count": 51,
   "metadata": {},
   "outputs": [],
   "source": [
    "dtm3.columns = ['DeltaTitles', 'SubmissionTitles']"
   ]
  },
  {
   "cell_type": "code",
   "execution_count": 52,
   "metadata": {},
   "outputs": [
    {
     "data": {
      "image/png": "[encoded data removed]",
      "text/plain": [
       "<Figure size 576x288 with 1 Axes>"
      ]
     },
     "metadata": {
      "needs_background": "light"
     },
     "output_type": "display_data"
    }
   ],
   "source": [
    "dtm3.head(30).plot(kind='bar', figsize = (8,4))\n",
    "plt.savefig('dtm3plot', bbox_inches = \"tight\")"
   ]
  },
  {
   "cell_type": "code",
   "execution_count": 53,
   "metadata": {},
   "outputs": [],
   "source": [
    "DeltaTitles = DeltasFromOPdf['title'].tolist()"
   ]
  },
  {
   "cell_type": "code",
   "execution_count": 54,
   "metadata": {},
   "outputs": [
    {
     "name": "stdout",
     "output_type": "stream",
     "text": [
      "CMV: Universal Basic Income (UBI) is necessary to offset the effects of automation\n",
      "CMV: Automation Taking All/Most of our Jobs Cannot Happen in a Capitalist Economy Without Universal Basic Income\n",
      "CMV: UBI (Universal Basic Income) should not be implemented...\n",
      "CMV: Universal Basic Income is not supportable by any country after a significant amount of time (ten years or so) because they run out of money.\n",
      "CMV: Expanding the Earned Income Tax Credit is better than implementing a universal basic income\n",
      "CMV: Universal Basic Income and a more socialist overall society (free healthcare/college) is actually better for spurring innovation.\n",
      "CMV: Universal Basic Income is the only plausible solution that has a chance in eradicating poverty\n",
      "CMV: liquidating all social welfare programs and instead establishing a universal basic income is far more efficient and ethical use of Tax Dollars (US Specific)\n",
      "CMV: If we're gonna implement Universal Basic Income, we should implement VAT and send that directly to UBI\n",
      "CMV: We do not need Universal Basic Income before automation wipes out jobs\n",
      "CMV: A Universal Basic Income (UBI) is not Socialist\n",
      "CMV: Universal Basic Income is needed to help combat the rising threat and eventuality of automation\n",
      "CMV: Universal Basic Income would only lead to inflation and therefore not be economically successful.\n",
      "CMV: A Universal Basic Income of €/$/£1000 each month to every citizen over 18 years old cutting all other welfare payments will be beneficial to the economy, the citizens and the government\n",
      "CMV: A Universal Basic Income would be beneficial to society in the United States.\n"
     ]
    }
   ],
   "source": [
    "for each in DeltaTitles:\n",
    "    if 'universal basic income' in each.lower():\n",
    "        print(each)"
   ]
  },
  {
   "cell_type": "code",
   "execution_count": 57,
   "metadata": {},
   "outputs": [
    {
     "name": "stdout",
     "output_type": "stream",
     "text": [
      "CMV: Bankruptcy Laws in the United States should be Amended to Permit the Discharge of Student Loan Debt Five Years After Graduation For Government Guaranteed Loans and Immediately for Private, Non-Government Guaranteed Loans\n",
      "CMV: A program of suspending income tax and instead giving a chunk of pay to the department of education would greatly aid if not reverse student loan debt\n",
      "CMV: The US government shouldn’t provide student loan debt relief to citizens\n",
      "CMV: Student loans are no different from other loans and those with student loan debt do not deserve special sympathy or accomodation.\n",
      "CMV: Student loan debt shouldn’t be forgiven and graduates are guilty for putting themselves into debt\n",
      "CMV: The United States should not cancel student loan debt\n"
     ]
    }
   ],
   "source": [
    "for each in DeltaTitles:\n",
    "    if 'student loan debt' in each.lower():\n",
    "        print(each)"
   ]
  },
  {
   "cell_type": "code",
   "execution_count": 58,
   "metadata": {},
   "outputs": [
    {
     "name": "stdout",
     "output_type": "stream",
     "text": [
      "CMV: There is nothing morally wrong with incest.\n",
      "CMV: There is nothing morally wrong with prostitution.\n",
      "CMV: There is nothing morally wrong about countries not accepting refugees/middle eastern/muslim immigrants\n",
      "CMV: There is nothing morally wrong with prison labor and if anything we should take advantage of it\n",
      "CMV: There's nothing morally wrong with making illegal immigration so dangerous that people die making the trip.\n",
      "CMV: There is nothing morally wrong with abortion.\n"
     ]
    }
   ],
   "source": [
    "for each in DeltaTitles:\n",
    "    if 'nothing' in each.lower() and 'morally wrong' in each.lower():\n",
    "        print(each)"
   ]
  },
  {
   "cell_type": "code",
   "execution_count": 59,
   "metadata": {},
   "outputs": [],
   "source": [
    "#for each in DeltaTitles:\n",
    "#    if 'pay child support' in each.lower():\n",
    "#        print(each)"
   ]
  },
  {
   "cell_type": "code",
   "execution_count": 60,
   "metadata": {},
   "outputs": [],
   "source": [
    "#for each in DeltaTitles:\n",
    "#    if 'gender pay gap' in each.lower():\n",
    "#        print(each)"
   ]
  },
  {
   "cell_type": "code",
   "execution_count": 61,
   "metadata": {},
   "outputs": [
    {
     "data": {
      "text/html": [
       "<div>\n",
       "<style scoped>\n",
       "    .dataframe tbody tr th:only-of-type {\n",
       "        vertical-align: middle;\n",
       "    }\n",
       "\n",
       "    .dataframe tbody tr th {\n",
       "        vertical-align: top;\n",
       "    }\n",
       "\n",
       "    .dataframe thead th {\n",
       "        text-align: right;\n",
       "    }\n",
       "</style>\n",
       "<table border=\"1\" class=\"dataframe\">\n",
       "  <thead>\n",
       "    <tr style=\"text-align: right;\">\n",
       "      <th></th>\n",
       "      <th>idint</th>\n",
       "      <th>idstr</th>\n",
       "      <th>created</th>\n",
       "      <th>self</th>\n",
       "      <th>nsfw</th>\n",
       "      <th>author</th>\n",
       "      <th>title</th>\n",
       "      <th>url</th>\n",
       "      <th>selftext</th>\n",
       "      <th>score</th>\n",
       "      <th>subreddit</th>\n",
       "      <th>distinguish</th>\n",
       "      <th>textlen</th>\n",
       "      <th>num_comments</th>\n",
       "      <th>flair_text</th>\n",
       "      <th>flair_css_class</th>\n",
       "      <th>augmented_at</th>\n",
       "      <th>augmented_count</th>\n",
       "    </tr>\n",
       "  </thead>\n",
       "  <tbody>\n",
       "    <tr>\n",
       "      <th>100324</th>\n",
       "      <td>505912467</td>\n",
       "      <td>t3_8d7gk3</td>\n",
       "      <td>1524072497</td>\n",
       "      <td>1</td>\n",
       "      <td>0</td>\n",
       "      <td>Kyles39</td>\n",
       "      <td>CMV: Universal Basic Income (UBI) is necessary...</td>\n",
       "      <td>NaN</td>\n",
       "      <td>I was reading up on warehouse work recently du...</td>\n",
       "      <td>20</td>\n",
       "      <td>changemyview</td>\n",
       "      <td>NaN</td>\n",
       "      <td>1623</td>\n",
       "      <td>93</td>\n",
       "      <td>Deltas(s) from OP</td>\n",
       "      <td>OPdelta</td>\n",
       "      <td>NaN</td>\n",
       "      <td>NaN</td>\n",
       "    </tr>\n",
       "  </tbody>\n",
       "</table>\n",
       "</div>"
      ],
      "text/plain": [
       "            idint      idstr     created  self  nsfw   author  \\\n",
       "100324  505912467  t3_8d7gk3  1524072497     1     0  Kyles39   \n",
       "\n",
       "                                                    title  url  \\\n",
       "100324  CMV: Universal Basic Income (UBI) is necessary...  NaN   \n",
       "\n",
       "                                                 selftext  score  \\\n",
       "100324  I was reading up on warehouse work recently du...     20   \n",
       "\n",
       "           subreddit distinguish  textlen  num_comments         flair_text  \\\n",
       "100324  changemyview         NaN     1623            93  Deltas(s) from OP   \n",
       "\n",
       "       flair_css_class  augmented_at  augmented_count  \n",
       "100324         OPdelta           NaN              NaN  "
      ]
     },
     "execution_count": 61,
     "metadata": {},
     "output_type": "execute_result"
    }
   ],
   "source": [
    "CMVubiIsNecessary = DeltasFromOPdf.loc[DeltasFromOPdf['title'] == 'CMV: Universal Basic Income (UBI) is necessary to offset the effects of automation']\n",
    "CMVubiIsNecessary"
   ]
  },
  {
   "cell_type": "code",
   "execution_count": 62,
   "metadata": {},
   "outputs": [],
   "source": [
    "values = CMVubiIsNecessary.values\n",
    "#values"
   ]
  },
  {
   "cell_type": "markdown",
   "metadata": {},
   "source": [
    "### finding corresponding comments: turns out that there is a problem with the comments data set because some comments cannot be matched to their parent submissions."
   ]
  },
  {
   "cell_type": "code",
   "execution_count": 54,
   "metadata": {},
   "outputs": [
    {
     "data": {
      "text/plain": [
       "'C:\\\\Users\\\\sprin\\\\Desktop\\\\DIGHUM160\\\\redditCMV'"
      ]
     },
     "execution_count": 54,
     "metadata": {},
     "output_type": "execute_result"
    }
   ],
   "source": [
    "pwd"
   ]
  },
  {
   "cell_type": "code",
   "execution_count": 57,
   "metadata": {},
   "outputs": [],
   "source": [
    "commentsDF = pd.read_csv('comments.csv', encoding = 'utf-8')"
   ]
  },
  {
   "cell_type": "code",
   "execution_count": 210,
   "metadata": {},
   "outputs": [
    {
     "data": {
      "text/html": [
       "<div>\n",
       "<style scoped>\n",
       "    .dataframe tbody tr th:only-of-type {\n",
       "        vertical-align: middle;\n",
       "    }\n",
       "\n",
       "    .dataframe tbody tr th {\n",
       "        vertical-align: top;\n",
       "    }\n",
       "\n",
       "    .dataframe thead th {\n",
       "        text-align: right;\n",
       "    }\n",
       "</style>\n",
       "<table border=\"1\" class=\"dataframe\">\n",
       "  <thead>\n",
       "    <tr style=\"text-align: right;\">\n",
       "      <th></th>\n",
       "      <th>idint</th>\n",
       "      <th>idstr</th>\n",
       "      <th>created</th>\n",
       "      <th>author</th>\n",
       "      <th>parent</th>\n",
       "      <th>submission</th>\n",
       "      <th>body</th>\n",
       "      <th>score</th>\n",
       "      <th>subreddit</th>\n",
       "      <th>distinguish</th>\n",
       "      <th>textlen</th>\n",
       "    </tr>\n",
       "  </thead>\n",
       "  <tbody>\n",
       "    <tr>\n",
       "      <th>0</th>\n",
       "      <td>26602800824</td>\n",
       "      <td>t1_c7ymchk</td>\n",
       "      <td>1358441654</td>\n",
       "      <td>Thompson_S_Sweetback</td>\n",
       "      <td>t3_16ralh</td>\n",
       "      <td>t3_16ralh</td>\n",
       "      <td>1. Long term economic disincentives will not b...</td>\n",
       "      <td>15.0</td>\n",
       "      <td>changemyview</td>\n",
       "      <td>NaN</td>\n",
       "      <td>696.0</td>\n",
       "    </tr>\n",
       "    <tr>\n",
       "      <th>1</th>\n",
       "      <td>26602813875</td>\n",
       "      <td>t1_c7ymmk3</td>\n",
       "      <td>1358442499</td>\n",
       "      <td>Jaberkaty</td>\n",
       "      <td>t1_c7ymchk</td>\n",
       "      <td>t3_16ralh</td>\n",
       "      <td>Excellent points. I would only add that most g...</td>\n",
       "      <td>6.0</td>\n",
       "      <td>changemyview</td>\n",
       "      <td>NaN</td>\n",
       "      <td>262.0</td>\n",
       "    </tr>\n",
       "    <tr>\n",
       "      <th>2</th>\n",
       "      <td>26602827369</td>\n",
       "      <td>t1_c7ymwyx</td>\n",
       "      <td>1358443385</td>\n",
       "      <td>ancillarynipple</td>\n",
       "      <td>t1_c7ymchk</td>\n",
       "      <td>t3_16ralh</td>\n",
       "      <td>Where can you provide the data that people wit...</td>\n",
       "      <td>2.0</td>\n",
       "      <td>changemyview</td>\n",
       "      <td>NaN</td>\n",
       "      <td>435.0</td>\n",
       "    </tr>\n",
       "  </tbody>\n",
       "</table>\n",
       "</div>"
      ],
      "text/plain": [
       "         idint       idstr     created                author      parent  \\\n",
       "0  26602800824  t1_c7ymchk  1358441654  Thompson_S_Sweetback   t3_16ralh   \n",
       "1  26602813875  t1_c7ymmk3  1358442499             Jaberkaty  t1_c7ymchk   \n",
       "2  26602827369  t1_c7ymwyx  1358443385       ancillarynipple  t1_c7ymchk   \n",
       "\n",
       "  submission                                               body  score  \\\n",
       "0  t3_16ralh  1. Long term economic disincentives will not b...   15.0   \n",
       "1  t3_16ralh  Excellent points. I would only add that most g...    6.0   \n",
       "2  t3_16ralh  Where can you provide the data that people wit...    2.0   \n",
       "\n",
       "      subreddit distinguish  textlen  \n",
       "0  changemyview         NaN    696.0  \n",
       "1  changemyview         NaN    262.0  \n",
       "2  changemyview         NaN    435.0  "
      ]
     },
     "execution_count": 210,
     "metadata": {},
     "output_type": "execute_result"
    }
   ],
   "source": [
    "commentsDF.head(3)"
   ]
  },
  {
   "cell_type": "code",
   "execution_count": 253,
   "metadata": {},
   "outputs": [],
   "source": [
    "#commentsDF.sort_values(by='created')"
   ]
  },
  {
   "cell_type": "code",
   "execution_count": 254,
   "metadata": {},
   "outputs": [],
   "source": [
    "#for s in commentsDF.created.unique():\n",
    "#    if s == \"changemyview\":\n",
    "#        print(s)"
   ]
  },
  {
   "cell_type": "code",
   "execution_count": 252,
   "metadata": {},
   "outputs": [],
   "source": [
    "#commentsDF.loc[commentsDF['created'] == 'changemyview']"
   ]
  },
  {
   "cell_type": "code",
   "execution_count": 63,
   "metadata": {},
   "outputs": [
    {
     "data": {
      "text/html": [
       "<div>\n",
       "<style scoped>\n",
       "    .dataframe tbody tr th:only-of-type {\n",
       "        vertical-align: middle;\n",
       "    }\n",
       "\n",
       "    .dataframe tbody tr th {\n",
       "        vertical-align: top;\n",
       "    }\n",
       "\n",
       "    .dataframe thead th {\n",
       "        text-align: right;\n",
       "    }\n",
       "</style>\n",
       "<table border=\"1\" class=\"dataframe\">\n",
       "  <thead>\n",
       "    <tr style=\"text-align: right;\">\n",
       "      <th></th>\n",
       "      <th>idint</th>\n",
       "      <th>idstr</th>\n",
       "      <th>created</th>\n",
       "      <th>author</th>\n",
       "      <th>parent</th>\n",
       "      <th>submission</th>\n",
       "      <th>body</th>\n",
       "      <th>score</th>\n",
       "      <th>subreddit</th>\n",
       "      <th>distinguish</th>\n",
       "      <th>textlen</th>\n",
       "    </tr>\n",
       "  </thead>\n",
       "  <tbody>\n",
       "  </tbody>\n",
       "</table>\n",
       "</div>"
      ],
      "text/plain": [
       "Empty DataFrame\n",
       "Columns: [idint, idstr, created, author, parent, submission, body, score, subreddit, distinguish, textlen]\n",
       "Index: []"
      ]
     },
     "execution_count": 63,
     "metadata": {},
     "output_type": "execute_result"
    }
   ],
   "source": [
    "commentsDF.loc[commentsDF['parent'] == 't3_av5k2e']"
   ]
  },
  {
   "cell_type": "code",
   "execution_count": 65,
   "metadata": {},
   "outputs": [
    {
     "data": {
      "text/html": [
       "<div>\n",
       "<style scoped>\n",
       "    .dataframe tbody tr th:only-of-type {\n",
       "        vertical-align: middle;\n",
       "    }\n",
       "\n",
       "    .dataframe tbody tr th {\n",
       "        vertical-align: top;\n",
       "    }\n",
       "\n",
       "    .dataframe thead th {\n",
       "        text-align: right;\n",
       "    }\n",
       "</style>\n",
       "<table border=\"1\" class=\"dataframe\">\n",
       "  <thead>\n",
       "    <tr style=\"text-align: right;\">\n",
       "      <th></th>\n",
       "      <th>idint</th>\n",
       "      <th>idstr</th>\n",
       "      <th>created</th>\n",
       "      <th>author</th>\n",
       "      <th>parent</th>\n",
       "      <th>submission</th>\n",
       "      <th>body</th>\n",
       "      <th>score</th>\n",
       "      <th>subreddit</th>\n",
       "      <th>distinguish</th>\n",
       "      <th>textlen</th>\n",
       "    </tr>\n",
       "  </thead>\n",
       "  <tbody>\n",
       "  </tbody>\n",
       "</table>\n",
       "</div>"
      ],
      "text/plain": [
       "Empty DataFrame\n",
       "Columns: [idint, idstr, created, author, parent, submission, body, score, subreddit, distinguish, textlen]\n",
       "Index: []"
      ]
     },
     "execution_count": 65,
     "metadata": {},
     "output_type": "execute_result"
    }
   ],
   "source": [
    "commentsDF.loc[commentsDF['parent'] == 't3_9jwnkg']"
   ]
  },
  {
   "cell_type": "code",
   "execution_count": null,
   "metadata": {},
   "outputs": [],
   "source": []
  }
 ],
 "metadata": {
  "kernelspec": {
   "display_name": "Python 3",
   "language": "python",
   "name": "python3"
  },
  "language_info": {
   "codemirror_mode": {
    "name": "ipython",
    "version": 3
   },
   "file_extension": ".py",
   "mimetype": "text/x-python",
   "name": "python",
   "nbconvert_exporter": "python",
   "pygments_lexer": "ipython3",
   "version": "3.7.3"
  }
 },
 "nbformat": 4,
 "nbformat_minor": 2
}
